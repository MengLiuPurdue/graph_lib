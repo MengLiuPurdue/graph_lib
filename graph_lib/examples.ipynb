{
 "cells": [
  {
   "cell_type": "code",
   "execution_count": 1,
   "metadata": {
    "collapsed": true
   },
   "outputs": [],
   "source": [
    "import graph_lib as gl"
   ]
  },
  {
   "cell_type": "code",
   "execution_count": 2,
   "metadata": {
    "collapsed": true
   },
   "outputs": [],
   "source": [
    "g = gl.GRAPH()"
   ]
  },
  {
   "cell_type": "code",
   "execution_count": 3,
   "metadata": {},
   "outputs": [
    {
     "name": "stdout",
     "output_type": "stream",
     "text": [
      "read data file\n",
      "read data file, done!\n",
      "sort edge list\n",
      "sort edge list, done!\n",
      "convert list to CSR\n",
      "convert list to CSR, done!\n"
     ]
    },
    {
     "data": {
      "text/plain": [
       "(100L, array([  3,   4,   0,  15, 112, 130,  14, 200, 134,  91,  90,  44,  25,\n",
       "        131,  12, 230, 176, 175,  46,  45, 129, 133, 132, 127,  16, 113,\n",
       "        249, 352, 351, 355, 354, 353, 333, 235,  17, 201, 198, 125, 126,\n",
       "          7, 114, 171, 313, 312, 203, 258,  43,   2,   1, 244, 245,  39,\n",
       "         99, 257, 323, 322, 372, 238, 239, 163,  60, 165, 164,  13, 329,\n",
       "         64, 187, 111,  59, 367, 366, 365, 303, 297,  94, 331, 330, 334,\n",
       "        332,  65, 153, 152, 248,  20, 373, 256, 188, 145, 236, 237,  57,\n",
       "        326, 128, 101,  50,  18, 135,  31,  23,   6], dtype=uint32), array([ 0.03999662,  0.02960015,  0.02612401,  0.02540053,  0.02230182,\n",
       "         0.01880695,  0.01709064,  0.01313798,  0.01241519,  0.01160099,\n",
       "         0.01160098,  0.01120881,  0.01055762,  0.01017615,  0.00951732,\n",
       "         0.00909063,  0.0089297 ,  0.0089297 ,  0.0089297 ,  0.0089297 ,\n",
       "         0.00874927,  0.00874927,  0.00874927,  0.00859705,  0.00846904,\n",
       "         0.00844792,  0.00842203,  0.00834585,  0.00834585,  0.00834585,\n",
       "         0.00834584,  0.00834584,  0.00763212,  0.00757687,  0.0075447 ,\n",
       "         0.00668138,  0.00668138,  0.00650241,  0.00650241,  0.00646739,\n",
       "         0.00643446,  0.00637212,  0.00603121,  0.00603121,  0.00566131,\n",
       "         0.00560977,  0.0054228 ,  0.00512134,  0.00512134,  0.00499084,\n",
       "         0.00491613,  0.00489557,  0.004804  ,  0.00468417,  0.0046136 ,\n",
       "         0.0046136 ,  0.00456252,  0.00453724,  0.00453724,  0.00452274,\n",
       "         0.00452274,  0.00452274,  0.00452274,  0.00446645,  0.00437429,\n",
       "         0.0043453 ,  0.00431044,  0.00413985,  0.00410483,  0.00396427,\n",
       "         0.00396427,  0.00396427,  0.00382792,  0.00377198,  0.00370272,\n",
       "         0.00366785,  0.00366785,  0.00366785,  0.00366785,  0.00355504,\n",
       "         0.00352546,  0.00352546,  0.0034474 ,  0.00338313,  0.00337917,\n",
       "         0.00337162,  0.00337115,  0.00329851,  0.0032934 ,  0.0032934 ,\n",
       "         0.0032796 ,  0.00320968,  0.00320968,  0.0031948 ,  0.00315913,\n",
       "         0.00306916,  0.00302349,  0.00299233,  0.00289485,  0.00287209]))"
      ]
     },
     "execution_count": 3,
     "metadata": {},
     "output_type": "execute_result"
    }
   ],
   "source": [
    "m,n,ai,aj,a = g.list_to_CSR(\"graph/Unknown.smat\")\n",
    "seedids,nseedids = g.read_seed(\"graph/Unknown_seed.smat\")\n",
    "\n",
    "# n - number of vertices\n",
    "# ai,aj - graph in CSR\n",
    "# alpha - value of alpha\n",
    "# eps - value of epsilon\n",
    "# seedids,nseedids - the set of indices for seeds\n",
    "# maxsteps - the max number of steps\n",
    "# xlength - the max number of ids in the solution vector\n",
    "# xids, actual_length - the solution vector\n",
    "# values - the pagerank value vector for xids (already sorted in decreasing order)\n",
    "\n",
    "alpha=0.99\n",
    "eps=10**(-7)\n",
    "maxsteps=10000000\n",
    "xlength=100\n",
    "g.aclpagerank(n,ai,aj,alpha,eps,seedids,nseedids,maxsteps,xlength,0)"
   ]
  },
  {
   "cell_type": "code",
   "execution_count": 7,
   "metadata": {},
   "outputs": [
    {
     "name": "stdout",
     "output_type": "stream",
     "text": [
      "read data file\n",
      "read data file, done!\n",
      "sort edge list\n",
      "sort edge list, done!\n",
      "convert list to CSR\n",
      "convert list to CSR, done!\n"
     ]
    },
    {
     "data": {
      "text/plain": [
       "(100L, array([  6,   0,   7,  14,  52,  41,  31,  15,  54,  62,  34,  60,  70,\n",
       "         53,  13,  16,  59,  78,  74,  61,  55,  82,  42,  89,  32,  92,\n",
       "         65,  46,  68,   8,  93, 103,  67,  95,   5,  63,  76, 162, 157,\n",
       "          1, 102, 155, 114,  84, 107,  20,  91,  83,  80, 152, 109,  11,\n",
       "        161,  90,  10, 167, 123,  75,  40, 113, 165, 166, 104,  73, 106,\n",
       "         23, 159,  71,  33, 100, 149,  39,  77,  21, 174,   9, 112, 151,\n",
       "        180, 168,  99,   2, 188, 179, 194, 160,  88,  98, 142, 116, 141,\n",
       "        173, 185,  81, 105, 201, 184,  43, 212, 177], dtype=uint32), array([ 0.32201112,  0.1980867 ,  0.12007795,  0.02129744,  0.01444824,\n",
       "         0.01426092,  0.01198611,  0.01125213,  0.01047988,  0.00892333,\n",
       "         0.00814675,  0.00802976,  0.00756576,  0.00736169,  0.00702815,\n",
       "         0.00668986,  0.00659611,  0.00577928,  0.00565221,  0.00543581,\n",
       "         0.00480229,  0.00464425,  0.00461009,  0.00440096,  0.00412266,\n",
       "         0.00383498,  0.00370098,  0.00358133,  0.00347407,  0.00345454,\n",
       "         0.00327619,  0.00326201,  0.00288305,  0.0028571 ,  0.00284999,\n",
       "         0.00264982,  0.00256888,  0.00233943,  0.00232656,  0.00220765,\n",
       "         0.00207289,  0.00199489,  0.00199312,  0.00196031,  0.00190885,\n",
       "         0.00190641,  0.00190009,  0.00185658,  0.00183293,  0.00173896,\n",
       "         0.00173874,  0.00173183,  0.00172545,  0.00170958,  0.00166051,\n",
       "         0.00161347,  0.00157203,  0.00156615,  0.00153428,  0.0015128 ,\n",
       "         0.00148662,  0.00147917,  0.00146508,  0.00145136,  0.00143726,\n",
       "         0.0014202 ,  0.00137788,  0.0013659 ,  0.00136048,  0.00132963,\n",
       "         0.0013091 ,  0.00130803,  0.00130138,  0.00127659,  0.00127027,\n",
       "         0.00123714,  0.00123151,  0.00120208,  0.0011925 ,  0.00116464,\n",
       "         0.00113752,  0.0011207 ,  0.00109505,  0.00108144,  0.00107322,\n",
       "         0.00103371,  0.00101781,  0.00100734,  0.00097347,  0.00089856,\n",
       "         0.00089532,  0.00084746,  0.00084127,  0.00081204,  0.00080735,\n",
       "         0.00079176,  0.00077335,  0.0007564 ,  0.00073798,  0.00072715]))"
      ]
     },
     "execution_count": 7,
     "metadata": {},
     "output_type": "execute_result"
    }
   ],
   "source": [
    "m,n,ai,aj,a = g.list_to_CSR(\"graph/minnesota_weighted.smat\")\n",
    "(seedids,nseedids) = g.read_seed(\"graph/minnesota_weighted_seed.smat\")\n",
    "\n",
    "# n - number of vertices\n",
    "# ai,aj - graph in CSR\n",
    "# alpha - value of alpha\n",
    "# eps - value of epsilon\n",
    "# seedids,nseedids - the set of indices for seeds\n",
    "# maxsteps - the max number of steps\n",
    "# xlength - the max number of ids in the solution vector\n",
    "# xids, actual_length - the solution vector\n",
    "# values - the pagerank value vector for xids (already sorted in decreasing order)\n",
    "\n",
    "alpha=0.99\n",
    "eps=10**(-7)\n",
    "maxsteps=10000000\n",
    "xlength=100\n",
    "g.aclpagerank_weighted(n,ai,aj,a,alpha,eps,seedids,nseedids,maxsteps,xlength,0)"
   ]
  },
  {
   "cell_type": "code",
   "execution_count": 9,
   "metadata": {},
   "outputs": [
    {
     "name": "stdout",
     "output_type": "stream",
     "text": [
      "read data file\n",
      "read data file, done!\n",
      "sort edge list\n",
      "sort edge list, done!\n",
      "convert list to CSR\n",
      "convert list to CSR, done!\n"
     ]
    }
   ],
   "source": [
    "(m,n,ai,aj,a) = g.list_to_CSR(\"graph/minnesota.smat\")\n",
    "(R,nR) = g.read_seed(\"graph/minnesota_R.smat\")\n",
    "\n",
    "# ai,aj - graph in CSR\n",
    "# n - number of nodes in the graph\n",
    "# R - seed set\n",
    "# nR - number of nodes in seed set\n",
    "# actual_length - number of nodes in the optimal subset\n",
    "# ret_set - optimal subset with the smallest conductance\n",
    "\n",
    "(actual_length,results)=g.MQI(n,ai,aj,nR,R)"
   ]
  },
  {
   "cell_type": "code",
   "execution_count": 10,
   "metadata": {},
   "outputs": [
    {
     "name": "stdout",
     "output_type": "stream",
     "text": [
      "read data file\n",
      "read data file, done!\n",
      "sort edge list\n",
      "sort edge list, done!\n",
      "convert list to CSR\n",
      "convert list to CSR, done!\n",
      "Calling C function\n"
     ]
    }
   ],
   "source": [
    "m,n,ai,aj,a = g.list_to_CSR(\"graph/usps_3nn.smat\")\n",
    "(seedids,nseedids) = g.read_seed(\"graph/usps_3nn_seed.smat\")\n",
    "\n",
    "# n - number of vertices\n",
    "# ai,aj - graph in CSR\n",
    "# alpha - value of alpha\n",
    "# eps - value of epsilon\n",
    "# rho - value of rho\n",
    "# seedids,nseedids - the set of indices for seeds\n",
    "# xlength - the max number of ids in the solution vector\n",
    "# actual_xids, actual_length - the solution vector\n",
    "\n",
    "alpha=0.99\n",
    "eps=10**(-4)\n",
    "rho=0.1\n",
    "xlength=n\n",
    "(actual_length,xids,ret_eps_stats,ret_rank_stats) = g.ppr_path(n,ai,aj,alpha,eps,rho,seedids,nseedids,xlength)"
   ]
  },
  {
   "cell_type": "code",
   "execution_count": 15,
   "metadata": {},
   "outputs": [
    {
     "name": "stdout",
     "output_type": "stream",
     "text": [
      "read data file\n",
      "read data file, done!\n",
      "sort edge list\n",
      "sort edge list, done!\n",
      "convert list to CSR\n",
      "convert list to CSR, done!\n"
     ]
    }
   ],
   "source": [
    "(m,n,ai,aj,a) = g.list_to_CSR(\"graph/Unknown_sys.smat\")\n",
    "import numpy as np\n",
    "import math\n",
    "\n",
    "'''\n",
    " * INPUT:\n",
    " *     alpha     - teleportation parameter between 0 and 1\n",
    " *     rho       - l1-reg. parameter\n",
    " *     ref_node  - seed node\n",
    " *     ai,aj,a   - Compressed sparse row representation of A\n",
    " *     d         - vector of node strengths\n",
    " *     epsilon   - accuracy for termination criterion\n",
    " *     ds        - the square root of d\n",
    " *     dsinv     - 1/ds\n",
    " *     maxiter   - max number of iterations\n",
    " *\n",
    " * OUTPUT:\n",
    " *     p              - PageRank vector as a row vector\n",
    " *     not_converged  - flag indicating that maxiter has been reached\n",
    " *     grad           - last gradient\n",
    " *\n",
    "'''\n",
    "\n",
    "ref_node = [100,101]\n",
    "d = np.zeros(n,dtype=np.float64)\n",
    "ds = np.zeros(n,dtype=np.float64)\n",
    "dsinv = np.zeros(n,dtype=np.float64)\n",
    "for i in range(n):\n",
    "    d[i] = ai[i+1] - ai[i]\n",
    "    ds[i] = math.sqrt(d[i])\n",
    "    dsinv[i]  = 1/ds[i]\n",
    "(not_converged,grad,p) = g.proxl1PRaccel(ai,aj,a,ref_node,d,ds,dsinv)"
   ]
  },
  {
   "cell_type": "code",
   "execution_count": 19,
   "metadata": {},
   "outputs": [
    {
     "name": "stdout",
     "output_type": "stream",
     "text": [
      "read data file\n",
      "read data file, done!\n",
      "sort edge list\n",
      "sort edge list, done!\n",
      "convert list to CSR\n",
      "convert list to CSR, done!\n"
     ]
    }
   ],
   "source": [
    "(m,n,ai,aj,a) = g.list_to_CSR(\"graph/minnesota.smat\")\n",
    "(ids,nids) = g.read_seed(\"graph/minnesota_ids.smat\")\n",
    "\n",
    "# ai,aj,a - graph in CSR\n",
    "# ids - the order of vertices given\n",
    "# results - the best set with the smallest conductance\n",
    "# actual_length - the number of vertices in the best set\n",
    "# num - the number of vertices given\n",
    "# values - A vector scoring each vertex (e.g. pagerank value). \n",
    "#          This will be sorted and turned into one of the other inputs.\n",
    "# flag - 0 for sweepcut_with_sorting and 1 for sweepcut_without_sorting\n",
    "# degrees - user defined degrees, set it to be [] if not provided\n",
    "# min_cond - minimum conductance\n",
    "\n",
    "values=[]\n",
    "flag=1\n",
    "(actual_length,bestclus,min_cond)=g.sweepcut(n,ai,aj,a,ids,nids,values,flag)"
   ]
  },
  {
   "cell_type": "code",
   "execution_count": null,
   "metadata": {
    "collapsed": true
   },
   "outputs": [],
   "source": []
  }
 ],
 "metadata": {
  "kernelspec": {
   "display_name": "Python 2",
   "language": "python",
   "name": "python2"
  },
  "language_info": {
   "codemirror_mode": {
    "name": "ipython",
    "version": 2
   },
   "file_extension": ".py",
   "mimetype": "text/x-python",
   "name": "python",
   "nbconvert_exporter": "python",
   "pygments_lexer": "ipython2",
   "version": "2.7.13"
  }
 },
 "nbformat": 4,
 "nbformat_minor": 2
}
