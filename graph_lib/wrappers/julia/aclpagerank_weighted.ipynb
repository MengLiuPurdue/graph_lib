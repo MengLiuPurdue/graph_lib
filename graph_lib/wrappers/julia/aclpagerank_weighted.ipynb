{
 "cells": [
  {
   "cell_type": "code",
   "execution_count": 1,
   "metadata": {
    "collapsed": false
   },
   "outputs": [
    {
     "data": {
      "text/plain": [
       "aclpagerank_weighted (generic function with 1 method)"
      ]
     },
     "execution_count": 1,
     "metadata": {},
     "output_type": "execute_result"
    }
   ],
   "source": [
    "# A julia wrapper for weighted aclpagerank\n",
    "# A - sparse matrix representation of graph\n",
    "# alpha - value of alpha\n",
    "# eps - value of epsilon\n",
    "# seedids - the set of indices for seeds\n",
    "# maxsteps - the max number of steps\n",
    "# xlength - the max number of ids in the solution vector\n",
    "# xids, actual_length - the solution vector\n",
    "# values - the pagerank value vector for xids (already sorted in decreasing order)\n",
    "function aclpagerank_weighted{T}(A::SparseMatrixCSC{T,Int64},alpha::Float64,\n",
    "                          eps::Float64,seedids,maxsteps,xlength)\n",
    "    n=A.n;\n",
    "    offset=1;\n",
    "    xids=zeros(Int64,n);\n",
    "    values=zeros(Cdouble,n);\n",
    "    seedsize=size(seedids)\n",
    "    nseedids=seedsize[1]\n",
    "#    actual_length=ccall((:aclpagerank_weighted64,\"../../lib/graph_lib_test/libgraph\"),Int64,\n",
    " #       (Int64,Ptr{Int64},Ptr{Int64},Ptr{Cdouble},Int64,Cdouble,Cdouble,\n",
    "  #      Ptr{Int64},Int64,Int64,Ptr{Int64},Int64,Ptr{Cdouble}),n,A.colptr,\n",
    "   #     A.rowval,A.nzval,offset,alpha,eps,seedids,nseedids,maxsteps,xids,xlength,values);   \n",
    "    \n",
    "    actual_length=ccall((:aclpagerank64,\"../../lib/graph_lib_test/libgraph\"),Int64,\n",
    "        (Int64,Ptr{Int64},Ptr{Int64},Int64,Cdouble,Cdouble,\n",
    "        Ptr{Int64},Int64,Int64,Ptr{Int64},Int64,Ptr{Cdouble}),n,A.colptr,\n",
    "        A.rowval,offset,alpha,eps,seedids,nseedids,maxsteps,xids,xlength,values); \n",
    "    \n",
    "    values=values[1:actual_length];\n",
    "    xids=xids[1:actual_length];\n",
    "    return actual_length,xids,values\n",
    "end"
   ]
  },
  {
   "cell_type": "code",
   "execution_count": 2,
   "metadata": {
    "collapsed": false
   },
   "outputs": [
    {
     "name": "stdout",
     "output_type": "stream",
     "text": [
      "here\n",
      "actual_length = 100\n",
      "xids = [7,15,1,16,35,32,17,8,33,14,55,63,47,53,61,43,42,21,41,60,24,2,54,12,62,56,71,79,83,90,22,34,75,93,11,40,69,3,94,66,104,77,81,72,10,96,46,68,74,57,64,76,9,163,158,44,103,91,156,115,82,85,108,92,153,84,78,110,162,4,70,124,168,58,114,166,167,89,105,80,107,160,19,150,152,101,175,181,13,113,100,99,189,169,180,195,95,161,142,5]\n",
      "values = [0.0873763,0.0617716,0.0388342,0.0386565,0.0337937,0.0301353,0.0300239,0.0288342,0.0213369,0.0203846,0.0195677,0.015495,0.0154074,0.0152277,0.0132474,0.0132069,0.0124836,0.0121954,0.0121256,0.0116663,0.011483,0.0099079,0.00986813,0.00909355,0.00905543,0.00867802,0.00841127,0.00811239,0.00776525,0.00752564,0.0070918,0.00704117,0.00684066,0.00660895,0.0065339,0.00619662,0.00601598,0.00588464,0.00573112,0.00566538,0.00562293,0.00558452,0.00547134,0.00542662,0.00524274,0.00522774,0.00508445,0.00485089,0.00476626,0.0045033,0.00437164,0.00420219,0.00416289,0.00404607,0.00399812,0.00364227,0.00357263,0.00357167,0.00343675,0.00343541,0.00342113,0.00334035,0.00329228,0.00328105,0.00325172,0.00321576,0.00319705,0.00300007,0.00298086,0.00291289,0.00284024,0.00280094,0.00279663,0.00261506,0.00261328,0.00257989,0.00256162,0.0025328,0.00252536,0.00248313,0.00247812,0.00242396,0.00240444,0.00238724,0.00234624,0.00234276,0.00220173,0.00218896,0.00216722,0.00212371,0.00209867,0.00206882,0.00206071,0.00205706,0.00190837,0.0018646,0.00181319,0.00180131,0.00179832,0.0017301]\n"
     ]
    },
    {
     "data": {
      "text/plain": [
       "100-element Array{Float64,1}:\n",
       " 0.0873763 \n",
       " 0.0617716 \n",
       " 0.0388342 \n",
       " 0.0386565 \n",
       " 0.0337937 \n",
       " 0.0301353 \n",
       " 0.0300239 \n",
       " 0.0288342 \n",
       " 0.0213369 \n",
       " 0.0203846 \n",
       " 0.0195677 \n",
       " 0.015495  \n",
       " 0.0154074 \n",
       " ⋮         \n",
       " 0.00216722\n",
       " 0.00212371\n",
       " 0.00209867\n",
       " 0.00206882\n",
       " 0.00206071\n",
       " 0.00205706\n",
       " 0.00190837\n",
       " 0.0018646 \n",
       " 0.00181319\n",
       " 0.00180131\n",
       " 0.00179832\n",
       " 0.0017301 "
      ]
     },
     "execution_count": 2,
     "metadata": {},
     "output_type": "execute_result"
    }
   ],
   "source": [
    "include(\"readSMAT.jl\")\n",
    "include(\"readSeed.jl\")\n",
    "A=readSMAT(\"../../graph/minnesota_weighted.smat\")\n",
    "alpha=0.99;\n",
    "eps=10.0^(-7);\n",
    "seedids=readSeed(\"../../graph/minnesota_weighted_seed.smat\");\n",
    "maxsteps=1000000000;\n",
    "xlength=100;\n",
    "(actual_length,xids,values)=aclpagerank_weighted(A,alpha,eps,seedids,maxsteps,xlength);\n",
    "@show actual_length\n",
    "@show xids\n",
    "@show values"
   ]
  },
  {
   "cell_type": "code",
   "execution_count": 3,
   "metadata": {
    "collapsed": false
   },
   "outputs": [
    {
     "name": "stderr",
     "output_type": "stream",
     "text": [
      "WARNING: Method definition readSMAT(AbstractString) in module Main at /Users/mengliu/Dropbox/Research/graph_lib/wrappers/julia/readSMAT.jl:2 overwritten at /Users/mengliu/Dropbox/Research/graph_lib/wrappers/julia/readSMAT.jl:2.\n",
      "WARNING: Method definition readSeed(AbstractString) in module Main at /Users/mengliu/Dropbox/Research/graph_lib/wrappers/julia/readSeed.jl:2 overwritten at /Users/mengliu/Dropbox/Research/graph_lib/wrappers/julia/readSeed.jl:2.\n"
     ]
    },
    {
     "data": {
      "text/plain": [
       "2642×2642 sparse matrix with 6606 Float64 nonzero entries:\n",
       "\t[7   ,    1]  =  17.7\n",
       "\t[17  ,    2]  =  1.0\n",
       "\t[4   ,    3]  =  1.0\n",
       "\t[12  ,    3]  =  1.0\n",
       "\t[3   ,    4]  =  1.0\n",
       "\t[10  ,    5]  =  1.0\n",
       "\t[9   ,    6]  =  10.0\n",
       "\t[1   ,    7]  =  1.0\n",
       "\t[8   ,    7]  =  1.0\n",
       "\t[15  ,    7]  =  1.0\n",
       "\t⋮\n",
       "\t[2621, 2633]  =  1.0\n",
       "\t[2581, 2634]  =  1.0\n",
       "\t[2635, 2634]  =  1.0\n",
       "\t[2634, 2635]  =  1.0\n",
       "\t[2576, 2636]  =  1.0\n",
       "\t[2613, 2637]  =  1.0\n",
       "\t[2613, 2638]  =  1.0\n",
       "\t[2537, 2639]  =  1.0\n",
       "\t[2599, 2640]  =  1.0\n",
       "\t[2607, 2641]  =  1.0\n",
       "\t[2585, 2642]  =  1.0"
      ]
     },
     "execution_count": 3,
     "metadata": {},
     "output_type": "execute_result"
    }
   ],
   "source": [
    "include(\"readSMAT.jl\")\n",
    "include(\"readSeed.jl\")\n",
    "A=readSMAT(\"../../graph/minnesota_weighted.smat\")"
   ]
  },
  {
   "cell_type": "code",
   "execution_count": 5,
   "metadata": {
    "collapsed": false
   },
   "outputs": [
    {
     "data": {
      "text/plain": [
       "false"
      ]
     },
     "execution_count": 5,
     "metadata": {},
     "output_type": "execute_result"
    }
   ],
   "source": [
    "issymmetric(A)"
   ]
  },
  {
   "cell_type": "code",
   "execution_count": null,
   "metadata": {
    "collapsed": false
   },
   "outputs": [],
   "source": [
    "A.n"
   ]
  },
  {
   "cell_type": "code",
   "execution_count": null,
   "metadata": {
    "collapsed": true
   },
   "outputs": [],
   "source": []
  },
  {
   "cell_type": "code",
   "execution_count": null,
   "metadata": {
    "collapsed": true
   },
   "outputs": [],
   "source": []
  },
  {
   "cell_type": "code",
   "execution_count": null,
   "metadata": {
    "collapsed": false
   },
   "outputs": [],
   "source": [
    "A.colptr"
   ]
  },
  {
   "cell_type": "code",
   "execution_count": null,
   "metadata": {
    "collapsed": true
   },
   "outputs": [],
   "source": []
  }
 ],
 "metadata": {
  "kernelspec": {
   "display_name": "Julia 0.5.0",
   "language": "julia",
   "name": "julia-0.5"
  },
  "language_info": {
   "file_extension": ".jl",
   "mimetype": "application/julia",
   "name": "julia",
   "version": "0.5.0"
  }
 },
 "nbformat": 4,
 "nbformat_minor": 2
}
