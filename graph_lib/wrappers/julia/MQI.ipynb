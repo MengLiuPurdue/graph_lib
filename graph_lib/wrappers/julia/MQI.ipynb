{
 "cells": [
  {
   "cell_type": "code",
   "execution_count": 1,
   "metadata": {
    "collapsed": false
   },
   "outputs": [
    {
     "data": {
      "text/plain": [
       "julia_wrapper (generic function with 1 method)"
      ]
     },
     "execution_count": 1,
     "metadata": {},
     "output_type": "execute_result"
    }
   ],
   "source": [
    "# A julia wrapper for MQI\n",
    "# A - sparse matrix representation of graph\n",
    "# n - number of nodes in the graph\n",
    "# R - seed set\n",
    "# nR - number of nodes in seed set\n",
    "# actual_length - number of nodes in the optimal subset\n",
    "# ret_set - optimal subset with the smallest conductance\n",
    "function julia_wrapper{T}(A::SparseMatrixCSC{T,Int64},n,nR,R)\n",
    "    ret_set=zeros(Int64,nR);\n",
    "    offset = 1;\n",
    "    actual_length=ccall((:MQI64,\"../../lib/graph_lib_test/libgraph\"),Int64,\n",
    "                        (Int64,Int64,Ptr{Int64},Ptr{Int64},Int64,Ptr{Int64},Ptr{Int64}),n,nR,A.colptr,\n",
    "                        A.rowval,offset,R,ret_set); \n",
    "    ret_set = ret_set[1:actual_length]\n",
    "    return actual_length,ret_set\n",
    "end"
   ]
  },
  {
   "cell_type": "code",
   "execution_count": 2,
   "metadata": {
    "collapsed": false
   },
   "outputs": [
    {
     "name": "stdout",
     "output_type": "stream",
     "text": [
      "iter: 0 conductance: 0.0598911\n",
      "iter: 1 conductance: 0.0367347\n",
      "iter: 2 conductance: 0.0343249\n",
      "iter: 3 conductance: 0.0341207\n",
      "iter: 4 conductance: 0.0341207\n"
     ]
    },
    {
     "data": {
      "text/plain": [
       "(154,[196,193,192,189,188,181,179,178,177,172  …  8,7,6,5,4,100,3,99,2,1])"
      ]
     },
     "execution_count": 2,
     "metadata": {},
     "output_type": "execute_result"
    }
   ],
   "source": [
    "using MatrixNetworks\n",
    "A = load_matrix_network(\"minnesota\");\n",
    "R = [1,2,3,4,5,6,7,8,9,10,11,12,13,14,15,16,17,18,19,20,21,22,23,24,25,26,27,28,29,30,31,32,33,34,35,36,37,38,39,40,41,42,43,44,45,46,47,48,49,50,51,52,53,54,55,56,57,58,59,60,61,62,63,64,65,66,67,68,69,70,71,72,74,75,76,77,78,79,80,81,82,83,84,85,86,88,89,90,91,92,93,94,95,96,98,99,100,101,103,104,105,106,107,109,113,115,119,120,121,122,123,124,125,126,127,128,129,130,131,132,133,134,135,136,137,138,140,141,142,143,144,145,146,148,149,150,151,152,153,156,158,159,160,161,162,163,165,166,167,169,170,172,173,174,177,178,179,180,181,186,188,189,192,193,196,197,198,202,209,210,211,212,213,216,218,219,220,222,224,226,227,228,229,232,233,245,246,247,248,249,250,254,255,258,262,263,266,270,271,272,273,274,276,277,278,279,280,286,287,288,291,292,300,304,324,328];\n",
    "nR = 216;\n",
    "n = 2642;\n",
    "julia_wrapper(A,n,nR,R)"
   ]
  },
  {
   "cell_type": "code",
   "execution_count": null,
   "metadata": {
    "collapsed": true
   },
   "outputs": [],
   "source": []
  }
 ],
 "metadata": {
  "kernelspec": {
   "display_name": "Julia 0.5.0",
   "language": "julia",
   "name": "julia-0.5"
  },
  "language_info": {
   "file_extension": ".jl",
   "mimetype": "application/julia",
   "name": "julia",
   "version": "0.5.0"
  }
 },
 "nbformat": 4,
 "nbformat_minor": 2
}
