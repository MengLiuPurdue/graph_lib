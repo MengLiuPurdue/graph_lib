{
 "cells": [
  {
   "cell_type": "code",
   "execution_count": null,
   "metadata": {
    "collapsed": false
   },
   "outputs": [],
   "source": [
    "# A julia wrapper for weighted aclpagerank\n",
    "# A - sparse matrix representation of graph\n",
    "# alpha - value of alpha\n",
    "# eps - value of epsilon\n",
    "# seedids - the set of indices for seeds\n",
    "# maxsteps - the max number of steps\n",
    "# xlength - the max number of ids in the solution vector\n",
    "# xids, actual_length - the solution vector\n",
    "# values - the pagerank value vector for xids (already sorted in decreasing order)\n",
    "function aclpagerank_weighted{T}(A::SparseMatrixCSC{T,Int64},alpha::Float64,\n",
    "                          eps::Float64,seedids,maxsteps,xlength)\n",
    "    n=A.n;\n",
    "    offset=1;\n",
    "    xids=zeros(Int64,n);\n",
    "    values=zeros(Cdouble,n);\n",
    "    seedsize=size(seedids)\n",
    "    nseedids=seedsize[1]\n",
    "#    actual_length=ccall((:aclpagerank_weighted64,\"../../lib/graph_lib_test/libgraph\"),Int64,\n",
    " #       (Int64,Ptr{Int64},Ptr{Int64},Ptr{Cdouble},Int64,Cdouble,Cdouble,\n",
    "  #      Ptr{Int64},Int64,Int64,Ptr{Int64},Int64,Ptr{Cdouble}),n,A.colptr,\n",
    "   #     A.rowval,A.nzval,offset,alpha,eps,seedids,nseedids,maxsteps,xids,xlength,values);   \n",
    "    \n",
    "    actual_length=ccall((:aclpagerank64,\"../../lib/graph_lib_test/libgraph\"),Int64,\n",
    "        (Int64,Ptr{Int64},Ptr{Int64},Int64,Cdouble,Cdouble,\n",
    "        Ptr{Int64},Int64,Int64,Ptr{Int64},Int64,Ptr{Cdouble}),n,A.colptr,\n",
    "        A.rowval,offset,alpha,eps,seedids,nseedids,maxsteps,xids,xlength,values); \n",
    "    \n",
    "    values=values[1:actual_length];\n",
    "    xids=xids[1:actual_length];\n",
    "    return actual_length,xids,values\n",
    "end"
   ]
  },
  {
   "cell_type": "code",
   "execution_count": null,
   "metadata": {
    "collapsed": false
   },
   "outputs": [],
   "source": [
    "include(\"readSMAT.jl\")\n",
    "include(\"readSeed.jl\")\n",
    "A=readSMAT(\"../../graph/minnesota_weighted.smat\")\n",
    "alpha=0.99;\n",
    "eps=10.0^(-7);\n",
    "seedids=readSeed(\"../../graph/minnesota_weighted_seed.smat\");\n",
    "maxsteps=1000000000;\n",
    "xlength=100;\n",
    "(actual_length,xids,values)=aclpagerank_weighted(A,alpha,eps,seedids,maxsteps,xlength);\n",
    "@show actual_length\n",
    "@show xids\n",
    "@show values"
   ]
  },
  {
   "cell_type": "code",
   "execution_count": null,
   "metadata": {
    "collapsed": false
   },
   "outputs": [],
   "source": [
    "include(\"readSMAT.jl\")\n",
    "include(\"readSeed.jl\")\n",
    "A=readSMAT(\"../../graph/minnesota_weighted.smat\")"
   ]
  },
  {
   "cell_type": "code",
   "execution_count": null,
   "metadata": {
    "collapsed": false
   },
   "outputs": [],
   "source": [
    "A.nzval"
   ]
  },
  {
   "cell_type": "code",
   "execution_count": null,
   "metadata": {
    "collapsed": false
   },
   "outputs": [],
   "source": [
    "A.n"
   ]
  },
  {
   "cell_type": "code",
   "execution_count": null,
   "metadata": {
    "collapsed": true
   },
   "outputs": [],
   "source": []
  },
  {
   "cell_type": "code",
   "execution_count": null,
   "metadata": {
    "collapsed": true
   },
   "outputs": [],
   "source": []
  },
  {
   "cell_type": "code",
   "execution_count": null,
   "metadata": {
    "collapsed": false
   },
   "outputs": [],
   "source": [
    "A.colptr"
   ]
  },
  {
   "cell_type": "code",
   "execution_count": null,
   "metadata": {
    "collapsed": true
   },
   "outputs": [],
   "source": []
  }
 ],
 "metadata": {
  "kernelspec": {
   "display_name": "Julia 0.5.0",
   "language": "julia",
   "name": "julia-0.5"
  },
  "language_info": {
   "file_extension": ".jl",
   "mimetype": "application/julia",
   "name": "julia",
   "version": "0.5.0"
  }
 },
 "nbformat": 4,
 "nbformat_minor": 2
}
